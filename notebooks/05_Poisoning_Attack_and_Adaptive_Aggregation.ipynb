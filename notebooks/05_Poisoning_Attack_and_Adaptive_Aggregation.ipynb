{
 "cells": [
  {
   "cell_type": "markdown",
   "id": "1b8b3d08-da64-4839-b445-288b9e92b13e",
   "metadata": {},
   "source": [
    "# 05 Advanced Model Poisoning Attacks and Adaptive Aggregation Strategies\n",
    "\n",
    "This notebook extends the Federated Learning-based Intrusion Detection System (FL-IDS) for Industrial IoT (IIoT) by implementing advanced model update poisoning attacks and adaptive aggregation strategies.\n",
    "\n",
    "---\n",
    "\n",
    "### Objectives:\n",
    "- **Simulate Advanced Model Update Poisoning Attacks:**\n",
    "  - Sign Flipping Attack\n",
    "  - Scaling Attack\n",
    "  - Sybil Attack (Coordinated Attackers)\n",
    "  - Adaptive Gradient-based Attack\n",
    "\n",
    "- **Implement Adaptive Aggregation Strategies:**\n",
    "  - Drift-Aware Weighting of Client Updates\n",
    "  - Performance Feedback-based Aggregation\n",
    "\n",
    "- **Simulate Realistic FL Scenarios:**\n",
    "  - Client Dropout Simulation\n",
    "  - Data and Computational Heterogeneity\n",
    "\n",
    "- **Evaluate System Resilience under Adversarial Conditions**\n",
    "  - Impact on Global Autoencoder Performance\n",
    "  - Comparative Analysis with Robust Aggregation Methods\n",
    "\n"
   ]
  },
  {
   "cell_type": "code",
   "execution_count": 1,
   "id": "a1c31f02-5e46-42f5-82d9-fa6a11339d5c",
   "metadata": {},
   "outputs": [
    {
     "name": "stdout",
     "output_type": "stream",
     "text": [
      "The setup is  complete:\n",
      "- Loaded model: final_federated_autoencoder_20rounds.h5\n",
      "- Clients: ['client_1', 'client_2', 'client_3', 'client_4', 'client_5']\n",
      "- Test samples: 2218834\n"
     ]
    }
   ],
   "source": [
    "import os\n",
    "import numpy as np\n",
    "import pandas as pd\n",
    "import random\n",
    "import tensorflow as tf\n",
    "from tensorflow.keras.models import load_model, clone_model\n",
    "from tensorflow.keras.losses import MeanSquaredError\n",
    "import joblib\n",
    "\n",
    "# For reproducibility\n",
    "SEED = 42\n",
    "random.seed(SEED)\n",
    "np.random.seed(SEED)\n",
    "tf.random.set_seed(SEED)\n",
    "\n",
    "# === Defining Paths ===\n",
    "base_path = \"D:/August-Thesis/FL-IDS-Surveillance\"\n",
    "results_path = os.path.join(base_path, \"notebooks/results\")\n",
    "\n",
    "model_path = os.path.join(results_path, \"models/unsupervised/federated/final_federated_autoencoder_20rounds.h5\")\n",
    "scaler_path = os.path.join(results_path, \"scalers/minmax_scaler_client_3.pkl\")  \n",
    "\n",
    "data_path = os.path.join(base_path, \"data/processed/federated/unsupervised\")\n",
    "test_path = os.path.join(base_path, \"data/processed/surv_unsupervised/test_mixed.csv\")\n",
    "\n",
    "client_ids = [f\"client_{i}\" for i in range(1, 6)]\n",
    "\n",
    "# === Loading the model (uncompiled) ===\n",
    "global_model = load_model(model_path, compile=False)\n",
    "global_model.compile(optimizer=\"adam\", loss=MeanSquaredError())\n",
    "\n",
    "# === Loading necessary Scaler ===\n",
    "minmax_scaler = joblib.load(scaler_path)\n",
    "\n",
    "feature_cols = list(minmax_scaler.feature_names_in_)\n",
    "\n",
    "\n",
    "# === Load Client Data ===\n",
    "client_dfs = {\n",
    "    cid: pd.read_csv(os.path.join(data_path, cid, \"train.csv\")) \n",
    "    for cid in client_ids\n",
    "}\n",
    "\n",
    "# === Load Testing Set ===\n",
    "test_df = pd.read_csv(test_path, low_memory = False)\n",
    "X_test = test_df[feature_cols].astype(float)\n",
    "y_true = test_df[\"Attack_label\"].values\n",
    "X_test_scaled = minmax_scaler.transform(test_df[feature_cols])\n",
    "\n",
    "print(\"The setup is  complete:\")\n",
    "print(f\"- Loaded model: {os.path.basename(model_path)}\")\n",
    "print(f\"- Clients: {client_ids}\")\n",
    "print(f\"- Test samples: {X_test.shape[0]}\")\n"
   ]
  },
  {
   "cell_type": "code",
   "execution_count": 2,
   "id": "2f731b79-8c89-4bed-b912-ab3283949438",
   "metadata": {},
   "outputs": [
    {
     "name": "stdout",
     "output_type": "stream",
     "text": [
      "Baseline Performance Before Attack:\n",
      "- F1 Score:      0.8373\n",
      "- Precision:     0.9877\n",
      "- Recall:        0.7266\n"
     ]
    }
   ],
   "source": [
    "from sklearn.metrics import f1_score, precision_score, recall_score\n",
    "\n",
    "# Use the best threshold from Notebook 03\n",
    "threshold = 0.000639\n",
    "\n",
    "# Baseline evaluation to establish \n",
    "reconstructed = global_model.predict(X_test_scaled, verbose=0)\n",
    "reconstruction_errors = np.mean(np.square(X_test_scaled - reconstructed), axis=1)\n",
    "y_pred = (reconstruction_errors > threshold).astype(int)\n",
    "\n",
    "# the Metrics\n",
    "f1_baseline = f1_score(y_true, y_pred)\n",
    "precision_baseline = precision_score(y_true, y_pred)\n",
    "recall_baseline = recall_score(y_true, y_pred)\n",
    "\n",
    "print(f\"Baseline Performance Before Attack:\")\n",
    "print(f\"- F1 Score:      {f1_baseline:.4f}\")\n",
    "print(f\"- Precision:     {precision_baseline:.4f}\")\n",
    "print(f\"- Recall:        {recall_baseline:.4f}\")\n"
   ]
  }
 ],
 "metadata": {
  "kernelspec": {
   "display_name": "Python (AR-iForest)",
   "language": "python",
   "name": "ar_iforest_fl_env"
  },
  "language_info": {
   "codemirror_mode": {
    "name": "ipython",
    "version": 3
   },
   "file_extension": ".py",
   "mimetype": "text/x-python",
   "name": "python",
   "nbconvert_exporter": "python",
   "pygments_lexer": "ipython3",
   "version": "3.12.7"
  }
 },
 "nbformat": 4,
 "nbformat_minor": 5
}
