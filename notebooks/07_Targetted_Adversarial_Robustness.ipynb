{
 "cells": [
  {
   "cell_type": "markdown",
   "id": "1e43c14e-c13a-4117-a8d5-b164677fb254",
   "metadata": {},
   "source": [
    "# Notebook 07: Targeted Adversarial Robustness Testing (The extreme limits now)\n",
    "\n",
    "This notebook implements a focused set of adversarial experiments to evaluate the robustness limits of the FL-IDS system under strategically crafted attack scenarios. It builds on previous work in Notebook 06 and stress-tests the median, Krum, and drift-aware aggregation strategies through precision attacks that bypass typical detection.\n",
    "\n",
    "## Objectives\n",
    "\n",
    "- Evaluate the failure threshold of **Median Aggregation** under progressive majority collusion scenarios.\n",
    "- Test **Gradient Positioning Attacks** designed to influence aggregation while remaining statistically benign.\n",
    "- Simulate **Multi-Vector Attacks**, combining multiple attack types such as model poisoning, label flipping, and timing interference.\n",
    "- Bypass **Drift Detection Mechanisms** (KS-test, PSI) using statistical camouflage.\n",
    "\n",
    "These experiments aim to uncover subtle vulnerabilities and help define the true operational limits of your deployed FL-IDS system, especially under real-world edge constraints like Raspberry Pi devices.\n",
    "\n"
   ]
  },
  {
   "cell_type": "code",
   "execution_count": 2,
   "id": "e80c840e-1e7c-4c2f-96f8-6b0830a35308",
   "metadata": {},
   "outputs": [
    {
     "name": "stdout",
     "output_type": "stream",
     "text": [
      "Setup complete:\n",
      "- Loaded model: final_federated_autoencoder_20rounds.h5\n",
      "- Clients: ['client_1', 'client_2', 'client_3', 'client_4', 'client_5']\n",
      "- Test samples: 2218834\n"
     ]
    }
   ],
   "source": [
    "import os\n",
    "import joblib\n",
    "import pandas as pd\n",
    "import numpy as np\n",
    "from tensorflow.keras.models import load_model\n",
    "from tensorflow.keras.losses import MeanSquaredError\n",
    "from sklearn.metrics import f1_score, precision_score, recall_score\n",
    "\n",
    "# === Paths ===\n",
    "base_path = \"D:/August-Thesis/FL-IDS-Surveillance\"\n",
    "results_path = os.path.join(base_path, \"notebooks/results\")\n",
    "model_path = os.path.join(results_path, \"models/unsupervised/federated/final_federated_autoencoder_20rounds.h5\")\n",
    "scaler_path = os.path.join(results_path, \"scalers/minmax_scaler_client_3.pkl\")\n",
    "data_path = os.path.join(base_path, \"data/processed/federated/unsupervised\")\n",
    "test_path = os.path.join(base_path, \"data/processed/surv_unsupervised/test_mixed.csv\")\n",
    "\n",
    "# === Loading the Global Model ===\n",
    "base_autoencoder = load_model(model_path, compile=False)\n",
    "base_autoencoder.compile(optimizer=\"adam\", loss=MeanSquaredError())\n",
    "\n",
    "# === the Scaler ===\n",
    "minmax_scaler = joblib.load(scaler_path)\n",
    "\n",
    "# === Load Client Data ===\n",
    "client_ids = [f\"client_{i}\" for i in range(1, 6)]\n",
    "client_data = {\n",
    "    cid: pd.read_csv(os.path.join(data_path, cid, \"train.csv\"))\n",
    "    for cid in client_ids\n",
    "}\n",
    "\n",
    "# === Load Test Data ===\n",
    "test_df = pd.read_csv(test_path, low_memory=False)\n",
    "feature_cols = list(minmax_scaler.feature_names_in_)\n",
    "X_test_ae_scaled = minmax_scaler.transform(test_df[feature_cols])\n",
    "y_test_unsup = test_df[\"Attack_label\"].values\n",
    "\n",
    "print(\"Setup complete:\")\n",
    "print(f\"- Loaded model: {os.path.basename(model_path)}\")\n",
    "print(f\"- Clients: {client_ids}\")\n",
    "print(f\"- Test samples: {X_test_ae_scaled.shape[0]}\")\n"
   ]
  },
  {
   "cell_type": "code",
   "execution_count": 3,
   "id": "09dad4e2-2516-4c92-8082-0703f5be68ae",
   "metadata": {},
   "outputs": [
    {
     "name": "stdout",
     "output_type": "stream",
     "text": [
      "=== Baseline Performance ===\n",
      "F1 Score:     0.8373\n",
      "Precision:    0.9877\n",
      "Recall:       0.7266\n"
     ]
    }
   ],
   "source": [
    "from sklearn.metrics import f1_score, precision_score, recall_score\n",
    "\n",
    "threshold = 0.000639\n",
    "\n",
    "# === Predict with global model on test set ===\n",
    "reconstructed = base_autoencoder.predict(X_test_ae_scaled, verbose=0)\n",
    "reconstruction_errors = np.mean(np.square(X_test_ae_scaled - reconstructed), axis=1)\n",
    "\n",
    "# === Binary classification based on threshold ===\n",
    "y_pred = (reconstruction_errors > threshold).astype(int)\n",
    "\n",
    "# === Metrics ===\n",
    "f1 = f1_score(y_test_unsup, y_pred)\n",
    "precision = precision_score(y_test_unsup, y_pred)\n",
    "recall = recall_score(y_test_unsup, y_pred)\n",
    "\n",
    "print(\"=== Baseline Performance ===\")\n",
    "print(f\"F1 Score:     {f1:.4f}\")\n",
    "print(f\"Precision:    {precision:.4f}\")\n",
    "print(f\"Recall:       {recall:.4f}\")\n"
   ]
  }
 ],
 "metadata": {
  "kernelspec": {
   "display_name": "Python (AR-iForest)",
   "language": "python",
   "name": "ar_iforest_fl_env"
  },
  "language_info": {
   "codemirror_mode": {
    "name": "ipython",
    "version": 3
   },
   "file_extension": ".py",
   "mimetype": "text/x-python",
   "name": "python",
   "nbconvert_exporter": "python",
   "pygments_lexer": "ipython3",
   "version": "3.12.7"
  }
 },
 "nbformat": 4,
 "nbformat_minor": 5
}
